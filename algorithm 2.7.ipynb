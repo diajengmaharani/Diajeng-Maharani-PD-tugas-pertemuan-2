{
 "cells": [
  {
   "cell_type": "code",
   "execution_count": 2,
   "id": "7811212e-c36b-4c36-9ab4-57a5a26c69f3",
   "metadata": {},
   "outputs": [],
   "source": [
    "a=-9+17j"
   ]
  },
  {
   "cell_type": "code",
   "execution_count": 3,
   "id": "f9532551-3da6-4d36-850c-d71dfe9a2ad5",
   "metadata": {},
   "outputs": [
    {
     "data": {
      "text/plain": [
       "(-9+17j)"
      ]
     },
     "execution_count": 3,
     "metadata": {},
     "output_type": "execute_result"
    }
   ],
   "source": [
    "a\n",
    "(-9+17j)"
   ]
  },
  {
   "cell_type": "code",
   "execution_count": 4,
   "id": "38d76f6e-57c2-427c-96bc-c6e4d43380c7",
   "metadata": {},
   "outputs": [
    {
     "data": {
      "text/plain": [
       "complex"
      ]
     },
     "execution_count": 4,
     "metadata": {},
     "output_type": "execute_result"
    }
   ],
   "source": [
    "type(a)"
   ]
  },
  {
   "cell_type": "code",
   "execution_count": 5,
   "id": "de8136d0-b877-4ad6-9237-9d063c53c1ba",
   "metadata": {},
   "outputs": [
    {
     "data": {
      "text/plain": [
       "-9.0"
      ]
     },
     "execution_count": 5,
     "metadata": {},
     "output_type": "execute_result"
    }
   ],
   "source": [
    "a.real\n",
    "-9.0"
   ]
  },
  {
   "cell_type": "code",
   "execution_count": 6,
   "id": "62bff152-c86c-48bf-aec1-04d94bc40432",
   "metadata": {},
   "outputs": [
    {
     "data": {
      "text/plain": [
       "17.0"
      ]
     },
     "execution_count": 6,
     "metadata": {},
     "output_type": "execute_result"
    }
   ],
   "source": [
    "a.imag\n"
   ]
  },
  {
   "cell_type": "code",
   "execution_count": null,
   "id": "68e07f95-581c-448d-a55f-7aa9ec42f912",
   "metadata": {},
   "outputs": [],
   "source": []
  }
 ],
 "metadata": {
  "kernelspec": {
   "display_name": "Python 3 (ipykernel)",
   "language": "python",
   "name": "python3"
  },
  "language_info": {
   "codemirror_mode": {
    "name": "ipython",
    "version": 3
   },
   "file_extension": ".py",
   "mimetype": "text/x-python",
   "name": "python",
   "nbconvert_exporter": "python",
   "pygments_lexer": "ipython3",
   "version": "3.10.2"
  }
 },
 "nbformat": 4,
 "nbformat_minor": 5
}

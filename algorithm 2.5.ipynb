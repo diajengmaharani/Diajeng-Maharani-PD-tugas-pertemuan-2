{
 "cells": [
  {
   "cell_type": "code",
   "execution_count": 1,
   "id": "2a503346-f3bd-40cc-a5dc-2883460f8d8a",
   "metadata": {},
   "outputs": [],
   "source": [
    "a=8.9e-4"
   ]
  },
  {
   "cell_type": "code",
   "execution_count": 2,
   "id": "6a66b810-83f8-4263-8fad-5cd972cd3bad",
   "metadata": {},
   "outputs": [
    {
     "data": {
      "text/plain": [
       "0.00089"
      ]
     },
     "execution_count": 2,
     "metadata": {},
     "output_type": "execute_result"
    }
   ],
   "source": [
    "a\n"
   ]
  },
  {
   "cell_type": "code",
   "execution_count": null,
   "id": "e006f788-b064-4325-ad60-32cef115b42d",
   "metadata": {},
   "outputs": [],
   "source": []
  }
 ],
 "metadata": {
  "kernelspec": {
   "display_name": "Python 3 (ipykernel)",
   "language": "python",
   "name": "python3"
  },
  "language_info": {
   "codemirror_mode": {
    "name": "ipython",
    "version": 3
   },
   "file_extension": ".py",
   "mimetype": "text/x-python",
   "name": "python",
   "nbconvert_exporter": "python",
   "pygments_lexer": "ipython3",
   "version": "3.10.2"
  }
 },
 "nbformat": 4,
 "nbformat_minor": 5
}
